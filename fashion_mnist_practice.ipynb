{
  "nbformat": 4,
  "nbformat_minor": 0,
  "metadata": {
    "colab": {
      "name": "fashion-mnist-practice.ipynb",
      "provenance": [],
      "collapsed_sections": [],
      "authorship_tag": "ABX9TyN17WhM+aaAeqMLAWa6sTzW",
      "include_colab_link": true
    },
    "kernelspec": {
      "name": "python3",
      "display_name": "Python 3"
    },
    "language_info": {
      "name": "python"
    },
    "accelerator": "GPU"
  },
  "cells": [
    {
      "cell_type": "markdown",
      "metadata": {
        "id": "view-in-github",
        "colab_type": "text"
      },
      "source": [
        "<a href=\"https://colab.research.google.com/github/MINICONVERRTIBLE/TIL/blob/master/fashion_mnist_practice.ipynb\" target=\"_parent\"><img src=\"https://colab.research.google.com/assets/colab-badge.svg\" alt=\"Open In Colab\"/></a>"
      ]
    },
    {
      "cell_type": "code",
      "execution_count": 1,
      "metadata": {
        "id": "2rD31_aqcJDS"
      },
      "outputs": [],
      "source": [
        "import numpy as np\n",
        "import pandas as pd\n"
      ]
    },
    {
      "cell_type": "code",
      "source": [
        "from tensorflow.keras.datasets import fashion_mnist, mnist"
      ],
      "metadata": {
        "id": "bGhbkBWdut_y"
      },
      "execution_count": 2,
      "outputs": []
    },
    {
      "cell_type": "code",
      "source": [
        "fashion_mnist.load_data()"
      ],
      "metadata": {
        "colab": {
          "base_uri": "https://localhost:8080/"
        },
        "id": "hQZ1hmLHvDPI",
        "outputId": "1864e347-4668-4720-9d7d-b38efda79ee1"
      },
      "execution_count": 3,
      "outputs": [
        {
          "output_type": "stream",
          "name": "stdout",
          "text": [
            "Downloading data from https://storage.googleapis.com/tensorflow/tf-keras-datasets/train-labels-idx1-ubyte.gz\n",
            "32768/29515 [=================================] - 0s 0us/step\n",
            "40960/29515 [=========================================] - 0s 0us/step\n",
            "Downloading data from https://storage.googleapis.com/tensorflow/tf-keras-datasets/train-images-idx3-ubyte.gz\n",
            "26427392/26421880 [==============================] - 0s 0us/step\n",
            "26435584/26421880 [==============================] - 0s 0us/step\n",
            "Downloading data from https://storage.googleapis.com/tensorflow/tf-keras-datasets/t10k-labels-idx1-ubyte.gz\n",
            "16384/5148 [===============================================================================================] - 0s 0us/step\n",
            "Downloading data from https://storage.googleapis.com/tensorflow/tf-keras-datasets/t10k-images-idx3-ubyte.gz\n",
            "4423680/4422102 [==============================] - 0s 0us/step\n",
            "4431872/4422102 [==============================] - 0s 0us/step\n"
          ]
        },
        {
          "output_type": "execute_result",
          "data": {
            "text/plain": [
              "((array([[[0, 0, 0, ..., 0, 0, 0],\n",
              "          [0, 0, 0, ..., 0, 0, 0],\n",
              "          [0, 0, 0, ..., 0, 0, 0],\n",
              "          ...,\n",
              "          [0, 0, 0, ..., 0, 0, 0],\n",
              "          [0, 0, 0, ..., 0, 0, 0],\n",
              "          [0, 0, 0, ..., 0, 0, 0]],\n",
              "  \n",
              "         [[0, 0, 0, ..., 0, 0, 0],\n",
              "          [0, 0, 0, ..., 0, 0, 0],\n",
              "          [0, 0, 0, ..., 0, 0, 0],\n",
              "          ...,\n",
              "          [0, 0, 0, ..., 0, 0, 0],\n",
              "          [0, 0, 0, ..., 0, 0, 0],\n",
              "          [0, 0, 0, ..., 0, 0, 0]],\n",
              "  \n",
              "         [[0, 0, 0, ..., 0, 0, 0],\n",
              "          [0, 0, 0, ..., 0, 0, 0],\n",
              "          [0, 0, 0, ..., 0, 0, 0],\n",
              "          ...,\n",
              "          [0, 0, 0, ..., 0, 0, 0],\n",
              "          [0, 0, 0, ..., 0, 0, 0],\n",
              "          [0, 0, 0, ..., 0, 0, 0]],\n",
              "  \n",
              "         ...,\n",
              "  \n",
              "         [[0, 0, 0, ..., 0, 0, 0],\n",
              "          [0, 0, 0, ..., 0, 0, 0],\n",
              "          [0, 0, 0, ..., 0, 0, 0],\n",
              "          ...,\n",
              "          [0, 0, 0, ..., 0, 0, 0],\n",
              "          [0, 0, 0, ..., 0, 0, 0],\n",
              "          [0, 0, 0, ..., 0, 0, 0]],\n",
              "  \n",
              "         [[0, 0, 0, ..., 0, 0, 0],\n",
              "          [0, 0, 0, ..., 0, 0, 0],\n",
              "          [0, 0, 0, ..., 0, 0, 0],\n",
              "          ...,\n",
              "          [0, 0, 0, ..., 0, 0, 0],\n",
              "          [0, 0, 0, ..., 0, 0, 0],\n",
              "          [0, 0, 0, ..., 0, 0, 0]],\n",
              "  \n",
              "         [[0, 0, 0, ..., 0, 0, 0],\n",
              "          [0, 0, 0, ..., 0, 0, 0],\n",
              "          [0, 0, 0, ..., 0, 0, 0],\n",
              "          ...,\n",
              "          [0, 0, 0, ..., 0, 0, 0],\n",
              "          [0, 0, 0, ..., 0, 0, 0],\n",
              "          [0, 0, 0, ..., 0, 0, 0]]], dtype=uint8),\n",
              "  array([9, 0, 0, ..., 3, 0, 5], dtype=uint8)),\n",
              " (array([[[0, 0, 0, ..., 0, 0, 0],\n",
              "          [0, 0, 0, ..., 0, 0, 0],\n",
              "          [0, 0, 0, ..., 0, 0, 0],\n",
              "          ...,\n",
              "          [0, 0, 0, ..., 0, 0, 0],\n",
              "          [0, 0, 0, ..., 0, 0, 0],\n",
              "          [0, 0, 0, ..., 0, 0, 0]],\n",
              "  \n",
              "         [[0, 0, 0, ..., 0, 0, 0],\n",
              "          [0, 0, 0, ..., 0, 0, 0],\n",
              "          [0, 0, 0, ..., 0, 0, 0],\n",
              "          ...,\n",
              "          [0, 0, 0, ..., 0, 0, 0],\n",
              "          [0, 0, 0, ..., 0, 0, 0],\n",
              "          [0, 0, 0, ..., 0, 0, 0]],\n",
              "  \n",
              "         [[0, 0, 0, ..., 0, 0, 0],\n",
              "          [0, 0, 0, ..., 0, 0, 0],\n",
              "          [0, 0, 0, ..., 0, 0, 0],\n",
              "          ...,\n",
              "          [0, 0, 0, ..., 0, 0, 0],\n",
              "          [0, 0, 0, ..., 0, 0, 0],\n",
              "          [0, 0, 0, ..., 0, 0, 0]],\n",
              "  \n",
              "         ...,\n",
              "  \n",
              "         [[0, 0, 0, ..., 0, 0, 0],\n",
              "          [0, 0, 0, ..., 0, 0, 0],\n",
              "          [0, 0, 0, ..., 0, 0, 0],\n",
              "          ...,\n",
              "          [0, 0, 0, ..., 0, 0, 0],\n",
              "          [0, 0, 0, ..., 0, 0, 0],\n",
              "          [0, 0, 0, ..., 0, 0, 0]],\n",
              "  \n",
              "         [[0, 0, 0, ..., 0, 0, 0],\n",
              "          [0, 0, 0, ..., 0, 0, 0],\n",
              "          [0, 0, 0, ..., 0, 0, 0],\n",
              "          ...,\n",
              "          [0, 0, 0, ..., 0, 0, 0],\n",
              "          [0, 0, 0, ..., 0, 0, 0],\n",
              "          [0, 0, 0, ..., 0, 0, 0]],\n",
              "  \n",
              "         [[0, 0, 0, ..., 0, 0, 0],\n",
              "          [0, 0, 0, ..., 0, 0, 0],\n",
              "          [0, 0, 0, ..., 0, 0, 0],\n",
              "          ...,\n",
              "          [0, 0, 0, ..., 0, 0, 0],\n",
              "          [0, 0, 0, ..., 0, 0, 0],\n",
              "          [0, 0, 0, ..., 0, 0, 0]]], dtype=uint8),\n",
              "  array([9, 2, 1, ..., 8, 1, 5], dtype=uint8)))"
            ]
          },
          "metadata": {},
          "execution_count": 3
        }
      ]
    },
    {
      "cell_type": "code",
      "source": [
        "(train_images, train_labels),(test_images, test_labels) = fashion_mnist.load_data()\n",
        "\n",
        "print(\"train dataset shape:\", train_images.shape, train_labels.shape)\n",
        "print(\"test dataset shape:\", test_images.shape, test_labels.shape)"
      ],
      "metadata": {
        "colab": {
          "base_uri": "https://localhost:8080/"
        },
        "id": "J_6T8M26vU7u",
        "outputId": "efb02098-33c6-4bfb-f3e9-acc20105462c"
      },
      "execution_count": 5,
      "outputs": [
        {
          "output_type": "stream",
          "name": "stdout",
          "text": [
            "train dataset shape: (60000, 28, 28) (60000,)\n",
            "test dataset shape: (10000, 28, 28) (10000,)\n"
          ]
        }
      ]
    },
    {
      "cell_type": "code",
      "source": [
        "import matplotlib.pyplot as plt\n",
        "\n",
        "plt.imshow(train_images[0], cmap='gray')\n",
        "plt.title(train_labels[0])"
      ],
      "metadata": {
        "colab": {
          "base_uri": "https://localhost:8080/",
          "height": 300
        },
        "id": "2YHaTkRvw39X",
        "outputId": "cc493e21-78c1-422d-f7dc-844014ae06a7"
      },
      "execution_count": 7,
      "outputs": [
        {
          "output_type": "execute_result",
          "data": {
            "text/plain": [
              "Text(0.5, 1.0, '9')"
            ]
          },
          "metadata": {},
          "execution_count": 7
        },
        {
          "output_type": "display_data",
          "data": {
            "image/png": "[encoded data removed]",
            "text/plain": [
              "<Figure size 432x288 with 1 Axes>"
            ]
          },
          "metadata": {
            "needs_background": "light"
          }
        }
      ]
    },
    {
      "cell_type": "code",
      "source": [
        " train_images[0,:,:], train_labels[0]"
      ],
      "metadata": {
        "colab": {
          "base_uri": "https://localhost:8080/"
        },
        "id": "xKwyBeMrwnkC",
        "outputId": "27b2625d-cd58-418a-e318-8502fdf8b9d9"
      },
      "execution_count": 8,
      "outputs": [
        {
          "output_type": "execute_result",
          "data": {
            "text/plain": [
              "(array([[  0,   0,   0,   0,   0,   0,   0,   0,   0,   0,   0,   0,   0,\n",
              "           0,   0,   0,   0,   0,   0,   0,   0,   0,   0,   0,   0,   0,\n",
              "           0,   0],\n",
              "        [  0,   0,   0,   0,   0,   0,   0,   0,   0,   0,   0,   0,   0,\n",
              "           0,   0,   0,   0,   0,   0,   0,   0,   0,   0,   0,   0,   0,\n",
              "           0,   0],\n",
              "        [  0,   0,   0,   0,   0,   0,   0,   0,   0,   0,   0,   0,   0,\n",
              "           0,   0,   0,   0,   0,   0,   0,   0,   0,   0,   0,   0,   0,\n",
              "           0,   0],\n",
              "        [  0,   0,   0,   0,   0,   0,   0,   0,   0,   0,   0,   0,   1,\n",
              "           0,   0,  13,  73,   0,   0,   1,   4,   0,   0,   0,   0,   1,\n",
              "           1,   0],\n",
              "        [  0,   0,   0,   0,   0,   0,   0,   0,   0,   0,   0,   0,   3,\n",
              "           0,  36, 136, 127,  62,  54,   0,   0,   0,   1,   3,   4,   0,\n",
              "           0,   3],\n",
              "        [  0,   0,   0,   0,   0,   0,   0,   0,   0,   0,   0,   0,   6,\n",
              "           0, 102, 204, 176, 134, 144, 123,  23,   0,   0,   0,   0,  12,\n",
              "          10,   0],\n",
              "        [  0,   0,   0,   0,   0,   0,   0,   0,   0,   0,   0,   0,   0,\n",
              "           0, 155, 236, 207, 178, 107, 156, 161, 109,  64,  23,  77, 130,\n",
              "          72,  15],\n",
              "        [  0,   0,   0,   0,   0,   0,   0,   0,   0,   0,   0,   1,   0,\n",
              "          69, 207, 223, 218, 216, 216, 163, 127, 121, 122, 146, 141,  88,\n",
              "         172,  66],\n",
              "        [  0,   0,   0,   0,   0,   0,   0,   0,   0,   1,   1,   1,   0,\n",
              "         200, 232, 232, 233, 229, 223, 223, 215, 213, 164, 127, 123, 196,\n",
              "         229,   0],\n",
              "        [  0,   0,   0,   0,   0,   0,   0,   0,   0,   0,   0,   0,   0,\n",
              "         183, 225, 216, 223, 228, 235, 227, 224, 222, 224, 221, 223, 245,\n",
              "         173,   0],\n",
              "        [  0,   0,   0,   0,   0,   0,   0,   0,   0,   0,   0,   0,   0,\n",
              "         193, 228, 218, 213, 198, 180, 212, 210, 211, 213, 223, 220, 243,\n",
              "         202,   0],\n",
              "        [  0,   0,   0,   0,   0,   0,   0,   0,   0,   1,   3,   0,  12,\n",
              "         219, 220, 212, 218, 192, 169, 227, 208, 218, 224, 212, 226, 197,\n",
              "         209,  52],\n",
              "        [  0,   0,   0,   0,   0,   0,   0,   0,   0,   0,   6,   0,  99,\n",
              "         244, 222, 220, 218, 203, 198, 221, 215, 213, 222, 220, 245, 119,\n",
              "         167,  56],\n",
              "        [  0,   0,   0,   0,   0,   0,   0,   0,   0,   4,   0,   0,  55,\n",
              "         236, 228, 230, 228, 240, 232, 213, 218, 223, 234, 217, 217, 209,\n",
              "          92,   0],\n",
              "        [  0,   0,   1,   4,   6,   7,   2,   0,   0,   0,   0,   0, 237,\n",
              "         226, 217, 223, 222, 219, 222, 221, 216, 223, 229, 215, 218, 255,\n",
              "          77,   0],\n",
              "        [  0,   3,   0,   0,   0,   0,   0,   0,   0,  62, 145, 204, 228,\n",
              "         207, 213, 221, 218, 208, 211, 218, 224, 223, 219, 215, 224, 244,\n",
              "         159,   0],\n",
              "        [  0,   0,   0,   0,  18,  44,  82, 107, 189, 228, 220, 222, 217,\n",
              "         226, 200, 205, 211, 230, 224, 234, 176, 188, 250, 248, 233, 238,\n",
              "         215,   0],\n",
              "        [  0,  57, 187, 208, 224, 221, 224, 208, 204, 214, 208, 209, 200,\n",
              "         159, 245, 193, 206, 223, 255, 255, 221, 234, 221, 211, 220, 232,\n",
              "         246,   0],\n",
              "        [  3, 202, 228, 224, 221, 211, 211, 214, 205, 205, 205, 220, 240,\n",
              "          80, 150, 255, 229, 221, 188, 154, 191, 210, 204, 209, 222, 228,\n",
              "         225,   0],\n",
              "        [ 98, 233, 198, 210, 222, 229, 229, 234, 249, 220, 194, 215, 217,\n",
              "         241,  65,  73, 106, 117, 168, 219, 221, 215, 217, 223, 223, 224,\n",
              "         229,  29],\n",
              "        [ 75, 204, 212, 204, 193, 205, 211, 225, 216, 185, 197, 206, 198,\n",
              "         213, 240, 195, 227, 245, 239, 223, 218, 212, 209, 222, 220, 221,\n",
              "         230,  67],\n",
              "        [ 48, 203, 183, 194, 213, 197, 185, 190, 194, 192, 202, 214, 219,\n",
              "         221, 220, 236, 225, 216, 199, 206, 186, 181, 177, 172, 181, 205,\n",
              "         206, 115],\n",
              "        [  0, 122, 219, 193, 179, 171, 183, 196, 204, 210, 213, 207, 211,\n",
              "         210, 200, 196, 194, 191, 195, 191, 198, 192, 176, 156, 167, 177,\n",
              "         210,  92],\n",
              "        [  0,   0,  74, 189, 212, 191, 175, 172, 175, 181, 185, 188, 189,\n",
              "         188, 193, 198, 204, 209, 210, 210, 211, 188, 188, 194, 192, 216,\n",
              "         170,   0],\n",
              "        [  2,   0,   0,   0,  66, 200, 222, 237, 239, 242, 246, 243, 244,\n",
              "         221, 220, 193, 191, 179, 182, 182, 181, 176, 166, 168,  99,  58,\n",
              "           0,   0],\n",
              "        [  0,   0,   0,   0,   0,   0,   0,  40,  61,  44,  72,  41,  35,\n",
              "           0,   0,   0,   0,   0,   0,   0,   0,   0,   0,   0,   0,   0,\n",
              "           0,   0],\n",
              "        [  0,   0,   0,   0,   0,   0,   0,   0,   0,   0,   0,   0,   0,\n",
              "           0,   0,   0,   0,   0,   0,   0,   0,   0,   0,   0,   0,   0,\n",
              "           0,   0],\n",
              "        [  0,   0,   0,   0,   0,   0,   0,   0,   0,   0,   0,   0,   0,\n",
              "           0,   0,   0,   0,   0,   0,   0,   0,   0,   0,   0,   0,   0,\n",
              "           0,   0]], dtype=uint8), 9)"
            ]
          },
          "metadata": {},
          "execution_count": 8
        }
      ]
    },
    {
      "cell_type": "code",
      "source": [
        "import matplotlib.pyplot as plt\n",
        "\n",
        "for i in range 18:\n",
        "plt.imshow(train_images[0], cmap='gray')\n",
        "plt.title(train_labels[0])"
      ],
      "metadata": {
        "colab": {
          "base_uri": "https://localhost:8080/",
          "height": 300
        },
        "id": "HylAEx2qx7o3",
        "outputId": "539c367b-3577-4644-a251-1833ea8b1727"
      },
      "execution_count": 14,
      "outputs": [
        {
          "output_type": "execute_result",
          "data": {
            "text/plain": [
              "Text(0.5, 1.0, '9')"
            ]
          },
          "metadata": {},
          "execution_count": 14
        },
        {
          "output_type": "display_data",
          "data": {
            "image/png": "[encoded data removed]",
            "text/plain": [
              "<Figure size 432x288 with 1 Axes>"
            ]
          },
          "metadata": {
            "needs_background": "light"
          }
        }
      ]
    },
    {
      "cell_type": "code",
      "source": [
        "class_names = ['T-shirt/top', 'Trouser', 'Pullover', 'Dress', 'Coat','Sandal', 'Shirt', 'Sneaker', 'Bag', 'Ankle boot']\n",
        "\n",
        "n_rows = 2\n",
        "n_cols = 8\n",
        "\n",
        "plt.figure(figsize=(n_cols * 1.2, n_rows * 1.2))\n",
        "for row in range(n_rows):\n",
        "    for col in range(n_cols):\n",
        "        index = n_cols * row + col\n",
        "        plt.subplot(n_rows, n_cols, index + 1)\n",
        "        plt.imshow(train_images[index], cmap=\"gray\", interpolation=\"nearest\")\n",
        "        plt.axis('off')\n",
        "        plt.title(class_names[train_labels[index]], fontsize=12)\n",
        "plt.subplots_adjust(wspace=0.2, hspace=0.5)\n",
        "plt.show()\n"
      ],
      "metadata": {
        "colab": {
          "base_uri": "https://localhost:8080/",
          "height": 177
        },
        "id": "mfLfBI93zwoa",
        "outputId": "8910c835-9517-499b-c037-d280bf33c03b"
      },
      "execution_count": 24,
      "outputs": [
        {
          "output_type": "display_data",
          "data": {
            "image/png": "[encoded data removed]",
            "text/plain": [
              "<Figure size 691.2x172.8 with 16 Axes>"
            ]
          },
          "metadata": {
            "needs_background": "light"
          }
        }
      ]
    },
    {
      "cell_type": "code",
      "source": [
        "#데이터 전처리 수행 \n",
        "#0~255 사이의 픽셀값을 0~1 사이 값으로 변환 \n",
        "\n",
        "def get_preprocessed_data(images, labels):\n",
        "  images = np.array(images/255.0, dtype=np.float32)\n",
        "  labels = np.array(labels, dtype=np.float32)\n",
        "  return images, labels \n",
        "\n",
        "train_images, train_labels = get_preprocessed_data(train_images, train_labels)\n",
        "test_images, test_labels = get_preprocessed_data(test_images, test_labels)\n",
        "\n",
        "print(\"train dataset shape:\", train_images.shape, train_labels.shape)\n",
        "print(\"test dataset shape:\", test_images.shape, test_labels.shape)"
      ],
      "metadata": {
        "colab": {
          "base_uri": "https://localhost:8080/"
        },
        "id": "1d67LCSb8M1H",
        "outputId": "e4a66da9-3ffa-4f01-b31c-5abfb76f6f77"
      },
      "execution_count": 29,
      "outputs": [
        {
          "output_type": "stream",
          "name": "stdout",
          "text": [
            "train dataset shape: (60000, 28, 28) (60000,)\n",
            "test dataset shape: (10000, 28, 28) (10000,)\n"
          ]
        }
      ]
    },
    {
      "cell_type": "code",
      "source": [
        ""
      ],
      "metadata": {
        "id": "HsqPkqK4abyW"
      },
      "execution_count": null,
      "outputs": []
    },
    {
      "cell_type": "code",
      "source": [
        "train_images[0]"
      ],
      "metadata": {
        "colab": {
          "base_uri": "https://localhost:8080/"
        },
        "id": "jbdFTpGq_JRw",
        "outputId": "b8c75d78-b382-4a8b-ee7c-14b85e0d0e5d"
      },
      "execution_count": 30,
      "outputs": [
        {
          "output_type": "execute_result",
          "data": {
            "text/plain": [
              "array([[0.0000000e+00, 0.0000000e+00, 0.0000000e+00, 0.0000000e+00,\n",
              "        0.0000000e+00, 0.0000000e+00, 0.0000000e+00, 0.0000000e+00,\n",
              "        0.0000000e+00, 0.0000000e+00, 0.0000000e+00, 0.0000000e+00,\n",
              "        0.0000000e+00, 0.0000000e+00, 0.0000000e+00, 0.0000000e+00,\n",
              "        0.0000000e+00, 0.0000000e+00, 0.0000000e+00, 0.0000000e+00,\n",
              "        0.0000000e+00, 0.0000000e+00, 0.0000000e+00, 0.0000000e+00,\n",
              "        0.0000000e+00, 0.0000000e+00, 0.0000000e+00, 0.0000000e+00],\n",
              "       [0.0000000e+00, 0.0000000e+00, 0.0000000e+00, 0.0000000e+00,\n",
              "        0.0000000e+00, 0.0000000e+00, 0.0000000e+00, 0.0000000e+00,\n",
              "        0.0000000e+00, 0.0000000e+00, 0.0000000e+00, 0.0000000e+00,\n",
              "        0.0000000e+00, 0.0000000e+00, 0.0000000e+00, 0.0000000e+00,\n",
              "        0.0000000e+00, 0.0000000e+00, 0.0000000e+00, 0.0000000e+00,\n",
              "        0.0000000e+00, 0.0000000e+00, 0.0000000e+00, 0.0000000e+00,\n",
              "        0.0000000e+00, 0.0000000e+00, 0.0000000e+00, 0.0000000e+00],\n",
              "       [0.0000000e+00, 0.0000000e+00, 0.0000000e+00, 0.0000000e+00,\n",
              "        0.0000000e+00, 0.0000000e+00, 0.0000000e+00, 0.0000000e+00,\n",
              "        0.0000000e+00, 0.0000000e+00, 0.0000000e+00, 0.0000000e+00,\n",
              "        0.0000000e+00, 0.0000000e+00, 0.0000000e+00, 0.0000000e+00,\n",
              "        0.0000000e+00, 0.0000000e+00, 0.0000000e+00, 0.0000000e+00,\n",
              "        0.0000000e+00, 0.0000000e+00, 0.0000000e+00, 0.0000000e+00,\n",
              "        0.0000000e+00, 0.0000000e+00, 0.0000000e+00, 0.0000000e+00],\n",
              "       [0.0000000e+00, 0.0000000e+00, 0.0000000e+00, 0.0000000e+00,\n",
              "        0.0000000e+00, 0.0000000e+00, 0.0000000e+00, 0.0000000e+00,\n",
              "        0.0000000e+00, 0.0000000e+00, 0.0000000e+00, 0.0000000e+00,\n",
              "        1.5378702e-05, 0.0000000e+00, 0.0000000e+00, 1.9992310e-04,\n",
              "        1.1226452e-03, 0.0000000e+00, 0.0000000e+00, 1.5378702e-05,\n",
              "        6.1514809e-05, 0.0000000e+00, 0.0000000e+00, 0.0000000e+00,\n",
              "        0.0000000e+00, 1.5378702e-05, 1.5378702e-05, 0.0000000e+00],\n",
              "       [0.0000000e+00, 0.0000000e+00, 0.0000000e+00, 0.0000000e+00,\n",
              "        0.0000000e+00, 0.0000000e+00, 0.0000000e+00, 0.0000000e+00,\n",
              "        0.0000000e+00, 0.0000000e+00, 0.0000000e+00, 0.0000000e+00,\n",
              "        4.6136101e-05, 0.0000000e+00, 5.5363326e-04, 2.0915035e-03,\n",
              "        1.9530950e-03, 9.5347944e-04, 8.3044986e-04, 0.0000000e+00,\n",
              "        0.0000000e+00, 0.0000000e+00, 1.5378702e-05, 4.6136101e-05,\n",
              "        6.1514809e-05, 0.0000000e+00, 0.0000000e+00, 4.6136101e-05],\n",
              "       [0.0000000e+00, 0.0000000e+00, 0.0000000e+00, 0.0000000e+00,\n",
              "        0.0000000e+00, 0.0000000e+00, 0.0000000e+00, 0.0000000e+00,\n",
              "        0.0000000e+00, 0.0000000e+00, 0.0000000e+00, 0.0000000e+00,\n",
              "        9.2272203e-05, 0.0000000e+00, 1.5686274e-03, 3.1372549e-03,\n",
              "        2.7066513e-03, 2.0607461e-03, 2.2145330e-03, 1.8915802e-03,\n",
              "        3.5371011e-04, 0.0000000e+00, 0.0000000e+00, 0.0000000e+00,\n",
              "        0.0000000e+00, 1.8454441e-04, 1.5378701e-04, 0.0000000e+00],\n",
              "       [0.0000000e+00, 0.0000000e+00, 0.0000000e+00, 0.0000000e+00,\n",
              "        0.0000000e+00, 0.0000000e+00, 0.0000000e+00, 0.0000000e+00,\n",
              "        0.0000000e+00, 0.0000000e+00, 0.0000000e+00, 0.0000000e+00,\n",
              "        0.0000000e+00, 0.0000000e+00, 2.3836987e-03, 3.6293734e-03,\n",
              "        3.1833909e-03, 2.7374087e-03, 1.6455210e-03, 2.3990774e-03,\n",
              "        2.4759709e-03, 1.6762784e-03, 9.8423695e-04, 3.5371011e-04,\n",
              "        1.1841600e-03, 1.9992313e-03, 1.1072665e-03, 2.3068051e-04],\n",
              "       [0.0000000e+00, 0.0000000e+00, 0.0000000e+00, 0.0000000e+00,\n",
              "        0.0000000e+00, 0.0000000e+00, 0.0000000e+00, 0.0000000e+00,\n",
              "        0.0000000e+00, 0.0000000e+00, 0.0000000e+00, 1.5378702e-05,\n",
              "        0.0000000e+00, 1.0611304e-03, 3.1833909e-03, 3.4294503e-03,\n",
              "        3.3525568e-03, 3.3217994e-03, 3.3217994e-03, 2.5067283e-03,\n",
              "        1.9530950e-03, 1.8608228e-03, 1.8762015e-03, 2.2452904e-03,\n",
              "        2.1683970e-03, 1.3533257e-03, 2.6451366e-03, 1.0149943e-03],\n",
              "       [0.0000000e+00, 0.0000000e+00, 0.0000000e+00, 0.0000000e+00,\n",
              "        0.0000000e+00, 0.0000000e+00, 0.0000000e+00, 0.0000000e+00,\n",
              "        0.0000000e+00, 1.5378702e-05, 1.5378702e-05, 1.5378702e-05,\n",
              "        0.0000000e+00, 3.0757401e-03, 3.5678586e-03, 3.5678586e-03,\n",
              "        3.5832373e-03, 3.5217225e-03, 3.4294503e-03, 3.4294503e-03,\n",
              "        3.3064208e-03, 3.2756634e-03, 2.5221070e-03, 1.9530950e-03,\n",
              "        1.8915802e-03, 3.0142253e-03, 3.5217225e-03, 0.0000000e+00],\n",
              "       [0.0000000e+00, 0.0000000e+00, 0.0000000e+00, 0.0000000e+00,\n",
              "        0.0000000e+00, 0.0000000e+00, 0.0000000e+00, 0.0000000e+00,\n",
              "        0.0000000e+00, 0.0000000e+00, 0.0000000e+00, 0.0000000e+00,\n",
              "        0.0000000e+00, 2.8143022e-03, 3.4602077e-03, 3.3217994e-03,\n",
              "        3.4294503e-03, 3.5063438e-03, 3.6139947e-03, 3.4909651e-03,\n",
              "        3.4448290e-03, 3.4140716e-03, 3.4448290e-03, 3.3986929e-03,\n",
              "        3.4294503e-03, 3.7677817e-03, 2.6605153e-03, 0.0000000e+00],\n",
              "       [0.0000000e+00, 0.0000000e+00, 0.0000000e+00, 0.0000000e+00,\n",
              "        0.0000000e+00, 0.0000000e+00, 0.0000000e+00, 0.0000000e+00,\n",
              "        0.0000000e+00, 0.0000000e+00, 0.0000000e+00, 0.0000000e+00,\n",
              "        0.0000000e+00, 2.9680892e-03, 3.5063438e-03, 3.3525568e-03,\n",
              "        3.2756634e-03, 3.0449827e-03, 2.7681661e-03, 3.2602844e-03,\n",
              "        3.2295270e-03, 3.2449057e-03, 3.2756634e-03, 3.4294503e-03,\n",
              "        3.3833142e-03, 3.7370243e-03, 3.1064975e-03, 0.0000000e+00],\n",
              "       [0.0000000e+00, 0.0000000e+00, 0.0000000e+00, 0.0000000e+00,\n",
              "        0.0000000e+00, 0.0000000e+00, 0.0000000e+00, 0.0000000e+00,\n",
              "        0.0000000e+00, 1.5378702e-05, 4.6136101e-05, 0.0000000e+00,\n",
              "        1.8454441e-04, 3.3679355e-03, 3.3833142e-03, 3.2602844e-03,\n",
              "        3.3525568e-03, 2.9527105e-03, 2.5990005e-03, 3.4909651e-03,\n",
              "        3.1987696e-03, 3.3525568e-03, 3.4448290e-03, 3.2602844e-03,\n",
              "        3.4755864e-03, 3.0296040e-03, 3.2141483e-03, 7.9969241e-04],\n",
              "       [0.0000000e+00, 0.0000000e+00, 0.0000000e+00, 0.0000000e+00,\n",
              "        0.0000000e+00, 0.0000000e+00, 0.0000000e+00, 0.0000000e+00,\n",
              "        0.0000000e+00, 0.0000000e+00, 9.2272203e-05, 0.0000000e+00,\n",
              "        1.5224913e-03, 3.7524030e-03, 3.4140716e-03, 3.3833142e-03,\n",
              "        3.3525568e-03, 3.1218762e-03, 3.0449827e-03, 3.3986929e-03,\n",
              "        3.3064208e-03, 3.2756634e-03, 3.4140716e-03, 3.3833142e-03,\n",
              "        3.7677817e-03, 1.8300654e-03, 2.5682431e-03, 8.6120726e-04],\n",
              "       [0.0000000e+00, 0.0000000e+00, 0.0000000e+00, 0.0000000e+00,\n",
              "        0.0000000e+00, 0.0000000e+00, 0.0000000e+00, 0.0000000e+00,\n",
              "        0.0000000e+00, 6.1514809e-05, 0.0000000e+00, 0.0000000e+00,\n",
              "        8.4582856e-04, 3.6293734e-03, 3.5063438e-03, 3.5371012e-03,\n",
              "        3.5063438e-03, 3.6908882e-03, 3.5678586e-03, 3.2756634e-03,\n",
              "        3.3525568e-03, 3.4294503e-03, 3.5986160e-03, 3.3371781e-03,\n",
              "        3.3371781e-03, 3.2141483e-03, 1.4148405e-03, 0.0000000e+00],\n",
              "       [0.0000000e+00, 0.0000000e+00, 1.5378702e-05, 6.1514809e-05,\n",
              "        9.2272203e-05, 1.0765091e-04, 3.0757405e-05, 0.0000000e+00,\n",
              "        0.0000000e+00, 0.0000000e+00, 0.0000000e+00, 0.0000000e+00,\n",
              "        3.6447521e-03, 3.4755864e-03, 3.3371781e-03, 3.4294503e-03,\n",
              "        3.4140716e-03, 3.3679355e-03, 3.4140716e-03, 3.3986929e-03,\n",
              "        3.3217994e-03, 3.4294503e-03, 3.5217225e-03, 3.3064208e-03,\n",
              "        3.3525568e-03, 3.9215689e-03, 1.1841600e-03, 0.0000000e+00],\n",
              "       [0.0000000e+00, 4.6136101e-05, 0.0000000e+00, 0.0000000e+00,\n",
              "        0.0000000e+00, 0.0000000e+00, 0.0000000e+00, 0.0000000e+00,\n",
              "        0.0000000e+00, 9.5347944e-04, 2.2299117e-03, 3.1372549e-03,\n",
              "        3.5063438e-03, 3.1833909e-03, 3.2756634e-03, 3.3986929e-03,\n",
              "        3.3525568e-03, 3.1987696e-03, 3.2449057e-03, 3.3525568e-03,\n",
              "        3.4448290e-03, 3.4294503e-03, 3.3679355e-03, 3.3064208e-03,\n",
              "        3.4448290e-03, 3.7524030e-03, 2.4452135e-03, 0.0000000e+00],\n",
              "       [0.0000000e+00, 0.0000000e+00, 0.0000000e+00, 0.0000000e+00,\n",
              "        2.7681663e-04, 6.7666284e-04, 1.2610535e-03, 1.6455210e-03,\n",
              "        2.9065744e-03, 3.5063438e-03, 3.3833142e-03, 3.4140716e-03,\n",
              "        3.3371781e-03, 3.4755864e-03, 3.0757401e-03, 3.1526336e-03,\n",
              "        3.2449057e-03, 3.5371012e-03, 3.4448290e-03, 3.5986160e-03,\n",
              "        2.7066513e-03, 2.8911957e-03, 3.8446751e-03, 3.8139177e-03,\n",
              "        3.5832373e-03, 3.6601308e-03, 3.3064208e-03, 0.0000000e+00],\n",
              "       [0.0000000e+00, 8.7658595e-04, 2.8758170e-03, 3.1987696e-03,\n",
              "        3.4448290e-03, 3.3986929e-03, 3.4448290e-03, 3.1987696e-03,\n",
              "        3.1372549e-03, 3.2910421e-03, 3.1987696e-03, 3.2141483e-03,\n",
              "        3.0757401e-03, 2.4452135e-03, 3.7677817e-03, 2.9680892e-03,\n",
              "        3.1680122e-03, 3.4294503e-03, 3.9215689e-03, 3.9215689e-03,\n",
              "        3.3986929e-03, 3.5986160e-03, 3.3986929e-03, 3.2449057e-03,\n",
              "        3.3833142e-03, 3.5678586e-03, 3.7831604e-03, 0.0000000e+00],\n",
              "       [4.6136101e-05, 3.1064975e-03, 3.5063438e-03, 3.4448290e-03,\n",
              "        3.3986929e-03, 3.2449057e-03, 3.2449057e-03, 3.2910421e-03,\n",
              "        3.1526336e-03, 3.1526336e-03, 3.1526336e-03, 3.3833142e-03,\n",
              "        3.6908882e-03, 1.2302961e-03, 2.3068052e-03, 3.9215689e-03,\n",
              "        3.5217225e-03, 3.3986929e-03, 2.8911957e-03, 2.3683200e-03,\n",
              "        2.9373318e-03, 3.2295270e-03, 3.1372549e-03, 3.2141483e-03,\n",
              "        3.4140716e-03, 3.5063438e-03, 3.4602077e-03, 0.0000000e+00],\n",
              "       [1.5071126e-03, 3.5832373e-03, 3.0449827e-03, 3.2295270e-03,\n",
              "        3.4140716e-03, 3.5217225e-03, 3.5217225e-03, 3.5986160e-03,\n",
              "        3.8292964e-03, 3.3833142e-03, 2.9834679e-03, 3.3064208e-03,\n",
              "        3.3371781e-03, 3.7062669e-03, 9.9961564e-04, 1.1226452e-03,\n",
              "        1.6301422e-03, 1.7993080e-03, 2.5836218e-03, 3.3679355e-03,\n",
              "        3.3986929e-03, 3.3064208e-03, 3.3371781e-03, 3.4294503e-03,\n",
              "        3.4294503e-03, 3.4448290e-03, 3.5217225e-03, 4.4598232e-04],\n",
              "       [1.1534026e-03, 3.1372549e-03, 3.2602844e-03, 3.1372549e-03,\n",
              "        2.9680892e-03, 3.1526336e-03, 3.2449057e-03, 3.4602077e-03,\n",
              "        3.3217994e-03, 2.8450596e-03, 3.0296040e-03, 3.1680122e-03,\n",
              "        3.0449827e-03, 3.2756634e-03, 3.6908882e-03, 2.9988466e-03,\n",
              "        3.4909651e-03, 3.7677817e-03, 3.6755095e-03, 3.4294503e-03,\n",
              "        3.3525568e-03, 3.2602844e-03, 3.2141483e-03, 3.4140716e-03,\n",
              "        3.3833142e-03, 3.3986929e-03, 3.5371012e-03, 1.0303730e-03],\n",
              "       [7.3817762e-04, 3.1218762e-03, 2.8143022e-03, 2.9834679e-03,\n",
              "        3.2756634e-03, 3.0296040e-03, 2.8450596e-03, 2.9219531e-03,\n",
              "        2.9834679e-03, 2.9527105e-03, 3.1064975e-03, 3.2910421e-03,\n",
              "        3.3679355e-03, 3.3986929e-03, 3.3833142e-03, 3.6293734e-03,\n",
              "        3.4602077e-03, 3.3217994e-03, 3.0603614e-03, 3.1680122e-03,\n",
              "        2.8604383e-03, 2.7835448e-03, 2.7220300e-03, 2.6451366e-03,\n",
              "        2.7835448e-03, 3.1526336e-03, 3.1680122e-03, 1.7685506e-03],\n",
              "       [0.0000000e+00, 1.8762015e-03, 3.3679355e-03, 2.9680892e-03,\n",
              "        2.7527874e-03, 2.6297579e-03, 2.8143022e-03, 3.0142253e-03,\n",
              "        3.1372549e-03, 3.2295270e-03, 3.2756634e-03, 3.1833909e-03,\n",
              "        3.2449057e-03, 3.2295270e-03, 3.0757401e-03, 3.0142253e-03,\n",
              "        2.9834679e-03, 2.9373318e-03, 2.9988466e-03, 2.9373318e-03,\n",
              "        3.0449827e-03, 2.9527105e-03, 2.7066513e-03, 2.3990774e-03,\n",
              "        2.5682431e-03, 2.7220300e-03, 3.2295270e-03, 1.4148405e-03],\n",
              "       [0.0000000e+00, 0.0000000e+00, 1.1380239e-03, 2.9065744e-03,\n",
              "        3.2602844e-03, 2.9373318e-03, 2.6912726e-03, 2.6451366e-03,\n",
              "        2.6912726e-03, 2.7835448e-03, 2.8450596e-03, 2.8911957e-03,\n",
              "        2.9065744e-03, 2.8911957e-03, 2.9680892e-03, 3.0449827e-03,\n",
              "        3.1372549e-03, 3.2141483e-03, 3.2295270e-03, 3.2295270e-03,\n",
              "        3.2449057e-03, 2.8911957e-03, 2.8911957e-03, 2.9834679e-03,\n",
              "        2.9527105e-03, 3.3217994e-03, 2.6143792e-03, 0.0000000e+00],\n",
              "       [3.0757405e-05, 0.0000000e+00, 0.0000000e+00, 0.0000000e+00,\n",
              "        1.0149943e-03, 3.0757401e-03, 3.4140716e-03, 3.6447521e-03,\n",
              "        3.6755095e-03, 3.7216456e-03, 3.7831604e-03, 3.7370243e-03,\n",
              "        3.7524030e-03, 3.3986929e-03, 3.3833142e-03, 2.9680892e-03,\n",
              "        2.9373318e-03, 2.7527874e-03, 2.7989235e-03, 2.7989235e-03,\n",
              "        2.7835448e-03, 2.7066513e-03, 2.5528644e-03, 2.5836218e-03,\n",
              "        1.5224913e-03, 8.9196465e-04, 0.0000000e+00, 0.0000000e+00],\n",
              "       [0.0000000e+00, 0.0000000e+00, 0.0000000e+00, 0.0000000e+00,\n",
              "        0.0000000e+00, 0.0000000e+00, 0.0000000e+00, 6.1514805e-04,\n",
              "        9.3810074e-04, 6.7666284e-04, 1.1072665e-03, 6.3052675e-04,\n",
              "        5.3825456e-04, 0.0000000e+00, 0.0000000e+00, 0.0000000e+00,\n",
              "        0.0000000e+00, 0.0000000e+00, 0.0000000e+00, 0.0000000e+00,\n",
              "        0.0000000e+00, 0.0000000e+00, 0.0000000e+00, 0.0000000e+00,\n",
              "        0.0000000e+00, 0.0000000e+00, 0.0000000e+00, 0.0000000e+00],\n",
              "       [0.0000000e+00, 0.0000000e+00, 0.0000000e+00, 0.0000000e+00,\n",
              "        0.0000000e+00, 0.0000000e+00, 0.0000000e+00, 0.0000000e+00,\n",
              "        0.0000000e+00, 0.0000000e+00, 0.0000000e+00, 0.0000000e+00,\n",
              "        0.0000000e+00, 0.0000000e+00, 0.0000000e+00, 0.0000000e+00,\n",
              "        0.0000000e+00, 0.0000000e+00, 0.0000000e+00, 0.0000000e+00,\n",
              "        0.0000000e+00, 0.0000000e+00, 0.0000000e+00, 0.0000000e+00,\n",
              "        0.0000000e+00, 0.0000000e+00, 0.0000000e+00, 0.0000000e+00],\n",
              "       [0.0000000e+00, 0.0000000e+00, 0.0000000e+00, 0.0000000e+00,\n",
              "        0.0000000e+00, 0.0000000e+00, 0.0000000e+00, 0.0000000e+00,\n",
              "        0.0000000e+00, 0.0000000e+00, 0.0000000e+00, 0.0000000e+00,\n",
              "        0.0000000e+00, 0.0000000e+00, 0.0000000e+00, 0.0000000e+00,\n",
              "        0.0000000e+00, 0.0000000e+00, 0.0000000e+00, 0.0000000e+00,\n",
              "        0.0000000e+00, 0.0000000e+00, 0.0000000e+00, 0.0000000e+00,\n",
              "        0.0000000e+00, 0.0000000e+00, 0.0000000e+00, 0.0000000e+00]],\n",
              "      dtype=float32)"
            ]
          },
          "metadata": {},
          "execution_count": 30
        }
      ]
    },
    {
      "cell_type": "code",
      "source": [
        "#Dense Layer을 기반으로 모델을 생성 \n",
        "INPUT_SIZE = 28\n",
        "\n",
        "from tensorflow.keras.layers import Dense, Flatten\n",
        "from tensorflow.keras.models import Sequential\n",
        "\n",
        "model = Sequential([\n",
        "    Flatten(input_shape=(INPUT_SIZE, INPUT_SIZE)),\n",
        "    Dense(100, activation='relu'),\n",
        "    Dense(30, activation='relu'),\n",
        "    Dense(10, activation='softmax')\n",
        "])\n",
        "\n",
        "model.summary()"
      ],
      "metadata": {
        "colab": {
          "base_uri": "https://localhost:8080/"
        },
        "id": "M87VgttAD9Ej",
        "outputId": "89ef6d5b-c9c2-44e0-9933-c4e531324ee0"
      },
      "execution_count": 33,
      "outputs": [
        {
          "output_type": "stream",
          "name": "stdout",
          "text": [
            "Model: \"sequential_1\"\n",
            "_________________________________________________________________\n",
            " Layer (type)                Output Shape              Param #   \n",
            "=================================================================\n",
            " flatten_1 (Flatten)         (None, 784)               0         \n",
            "                                                                 \n",
            " dense_2 (Dense)             (None, 100)               78500     \n",
            "                                                                 \n",
            " dense_3 (Dense)             (None, 30)                3030      \n",
            "                                                                 \n",
            " dense_4 (Dense)             (None, 10)                310       \n",
            "                                                                 \n",
            "=================================================================\n",
            "Total params: 81,840\n",
            "Trainable params: 81,840\n",
            "Non-trainable params: 0\n",
            "_________________________________________________________________\n"
          ]
        }
      ]
    },
    {
      "cell_type": "code",
      "source": [
        "#model의 loss와 optimizer설정하고 학습 수행 \n",
        "\n",
        "from tensorflow.keras.optimizers import Adam\n",
        "from tensorflow.keras.losses import CategoricalCrossentropy\n",
        "from tensorflow.keras.metrics import Accuracy\n",
        "\n",
        "model.compile(optimizer=Adam(0.001), loss='sparse_categorical_crossentropy', metrics=['accuracy'])\n"
      ],
      "metadata": {
        "id": "XtNeWKF_FXK_"
      },
      "execution_count": 36,
      "outputs": []
    },
    {
      "cell_type": "code",
      "source": [
        "model.fit(train_images, train_labels, batch_size=32, epochs=20)"
      ],
      "metadata": {
        "colab": {
          "base_uri": "https://localhost:8080/"
        },
        "id": "81AKba-yL3Jm",
        "outputId": "cbb774d5-15e8-4a8a-c627-503e59a98d19"
      },
      "execution_count": 38,
      "outputs": [
        {
          "output_type": "stream",
          "name": "stdout",
          "text": [
            "Epoch 1/20\n",
            "1875/1875 [==============================] - 4s 2ms/step - loss: 0.4564 - accuracy: 0.8375\n",
            "Epoch 2/20\n",
            "1875/1875 [==============================] - 4s 2ms/step - loss: 0.4383 - accuracy: 0.8426\n",
            "Epoch 3/20\n",
            "1875/1875 [==============================] - 4s 2ms/step - loss: 0.4247 - accuracy: 0.8481\n",
            "Epoch 4/20\n",
            "1875/1875 [==============================] - 4s 2ms/step - loss: 0.4135 - accuracy: 0.8526\n",
            "Epoch 5/20\n",
            "1875/1875 [==============================] - 4s 2ms/step - loss: 0.4037 - accuracy: 0.8559\n",
            "Epoch 6/20\n",
            "1875/1875 [==============================] - 4s 2ms/step - loss: 0.3950 - accuracy: 0.8595\n",
            "Epoch 7/20\n",
            "1875/1875 [==============================] - 4s 2ms/step - loss: 0.3877 - accuracy: 0.8611\n",
            "Epoch 8/20\n",
            "1875/1875 [==============================] - 5s 2ms/step - loss: 0.3801 - accuracy: 0.8639\n",
            "Epoch 9/20\n",
            "1875/1875 [==============================] - 5s 2ms/step - loss: 0.3745 - accuracy: 0.8653\n",
            "Epoch 10/20\n",
            "1875/1875 [==============================] - 4s 2ms/step - loss: 0.3681 - accuracy: 0.8681\n",
            "Epoch 11/20\n",
            "1875/1875 [==============================] - 4s 2ms/step - loss: 0.3617 - accuracy: 0.8703\n",
            "Epoch 12/20\n",
            "1875/1875 [==============================] - 4s 2ms/step - loss: 0.3559 - accuracy: 0.8727\n",
            "Epoch 13/20\n",
            "1875/1875 [==============================] - 4s 2ms/step - loss: 0.3503 - accuracy: 0.8742\n",
            "Epoch 14/20\n",
            "1875/1875 [==============================] - 4s 2ms/step - loss: 0.3454 - accuracy: 0.8755\n",
            "Epoch 15/20\n",
            "1875/1875 [==============================] - 4s 2ms/step - loss: 0.3418 - accuracy: 0.8761\n",
            "Epoch 16/20\n",
            "1875/1875 [==============================] - 4s 2ms/step - loss: 0.3364 - accuracy: 0.8785\n",
            "Epoch 17/20\n",
            "1875/1875 [==============================] - 4s 2ms/step - loss: 0.3326 - accuracy: 0.8800\n",
            "Epoch 18/20\n",
            "1875/1875 [==============================] - 4s 2ms/step - loss: 0.3289 - accuracy: 0.8814\n",
            "Epoch 19/20\n",
            "1875/1875 [==============================] - 4s 2ms/step - loss: 0.3248 - accuracy: 0.8825\n",
            "Epoch 20/20\n",
            "1875/1875 [==============================] - 4s 2ms/step - loss: 0.3220 - accuracy: 0.8840\n"
          ]
        },
        {
          "output_type": "execute_result",
          "data": {
            "text/plain": [
              "<keras.callbacks.History at 0x7fd265ac40d0>"
            ]
          },
          "metadata": {},
          "execution_count": 38
        }
      ]
    },
    {
      "cell_type": "code",
      "source": [
        "loss, accuracy = model.evaluate(test_images, test_labels)\n",
        "print(loss, accuracy)\n"
      ],
      "metadata": {
        "colab": {
          "base_uri": "https://localhost:8080/"
        },
        "id": "zxQg_FR3PxPF",
        "outputId": "890cd6bd-d4a7-49c1-df8a-62d8dbffde77"
      },
      "execution_count": 39,
      "outputs": [
        {
          "output_type": "stream",
          "name": "stdout",
          "text": [
            "313/313 [==============================] - 1s 2ms/step - loss: 0.3763 - accuracy: 0.8637\n",
            "0.37634509801864624 0.8636999726295471\n"
          ]
        }
      ]
    },
    {
      "cell_type": "code",
      "source": [
        "pred_proba = model.predict(test_images)\n",
        "print(pred_proba.shape)"
      ],
      "metadata": {
        "colab": {
          "base_uri": "https://localhost:8080/"
        },
        "id": "Ta8_mz0BRkwC",
        "outputId": "d0836596-b005-42ff-e511-4a74fad14194"
      },
      "execution_count": 48,
      "outputs": [
        {
          "output_type": "stream",
          "name": "stdout",
          "text": [
            "(10000, 10)\n"
          ]
        }
      ]
    },
    {
      "cell_type": "code",
      "source": [
        "pred_proba[0]"
      ],
      "metadata": {
        "colab": {
          "base_uri": "https://localhost:8080/"
        },
        "id": "OFn_3aKSQh_h",
        "outputId": "dd06ac84-e21f-4d65-e203-e3678b82f6cb"
      },
      "execution_count": 49,
      "outputs": [
        {
          "output_type": "execute_result",
          "data": {
            "text/plain": [
              "array([4.6649088e-08, 2.1355043e-10, 1.7969018e-08, 1.0864950e-08,\n",
              "       3.3209719e-07, 5.0283667e-02, 3.5527037e-07, 1.5580158e-02,\n",
              "       1.9983228e-03, 9.3213707e-01], dtype=float32)"
            ]
          },
          "metadata": {},
          "execution_count": 49
        }
      ]
    },
    {
      "cell_type": "code",
      "source": [
        "np.expand_dims(test_images[0], axis=0).shape"
      ],
      "metadata": {
        "colab": {
          "base_uri": "https://localhost:8080/"
        },
        "id": "_BmTMw7pSk_9",
        "outputId": "f42a3b8d-0e04-4768-f969-9321695d06b5"
      },
      "execution_count": 50,
      "outputs": [
        {
          "output_type": "execute_result",
          "data": {
            "text/plain": [
              "(1, 28, 28)"
            ]
          },
          "metadata": {},
          "execution_count": 50
        }
      ]
    },
    {
      "cell_type": "code",
      "source": [
        "pred_proba = model.predict(np.expand_dims(test_images[0], axis=0))\n",
        "print('softmax output:', pred_proba)\n",
        "\n",
        "pred = np.argmax(np.squeeze(pred_proba))\n",
        "print('predicted class value:', pred)"
      ],
      "metadata": {
        "colab": {
          "base_uri": "https://localhost:8080/"
        },
        "id": "X998m8faSwRr",
        "outputId": "879a4ccf-a340-4af6-efb2-6c13146132c5"
      },
      "execution_count": 52,
      "outputs": [
        {
          "output_type": "stream",
          "name": "stdout",
          "text": [
            "softmax output: [[4.6648996e-08 2.1355002e-10 1.7969018e-08 1.0864907e-08 3.3209719e-07\n",
            "  5.0283704e-02 3.5527106e-07 1.5580158e-02 1.9983228e-03 9.3213707e-01]]\n",
            "predicted class value: 9\n"
          ]
        }
      ]
    },
    {
      "cell_type": "code",
      "source": [
        "print('target class value:', test_labels[0], 'predicted class value:', pred)"
      ],
      "metadata": {
        "colab": {
          "base_uri": "https://localhost:8080/"
        },
        "id": "FOCMYleHUTcz",
        "outputId": "d7b8e549-ea7a-4bf7-cea5-566a9bd5178d"
      },
      "execution_count": 53,
      "outputs": [
        {
          "output_type": "stream",
          "name": "stdout",
          "text": [
            "target class value: 9.0 predicted class value: 9\n"
          ]
        }
      ]
    },
    {
      "cell_type": "code",
      "source": [
        "model.evaluate(test_images, batch_size=64)"
      ],
      "metadata": {
        "colab": {
          "base_uri": "https://localhost:8080/"
        },
        "id": "AEkYMEkMVXdh",
        "outputId": "afb2b8c1-56ee-40a3-cdfb-c818dc8248ec"
      },
      "execution_count": 54,
      "outputs": [
        {
          "output_type": "stream",
          "name": "stdout",
          "text": [
            "157/157 [==============================] - 0s 2ms/step - loss: 0.0000e+00 - accuracy: 0.0000e+00\n"
          ]
        },
        {
          "output_type": "execute_result",
          "data": {
            "text/plain": [
              "[0.0, 0.0]"
            ]
          },
          "metadata": {},
          "execution_count": 54
        }
      ]
    },
    {
      "cell_type": "code",
      "source": [
        "from sklearn.model_selection import train_test_split\n",
        "from tensorflow.keras.utils import to_categorical\n",
        "\n",
        "# 기존 학습 데이터를 다시 학습과 검증 데이터 세트로 분리\n",
        "tr_images, val_images, tr_labels, val_labels = train_test_split(train_images, train_labels, test_size=0.15, random_state=2021)\n",
        "print('train과 validation shape:', tr_images.shape, tr_labels.shape, val_images.shape, val_labels.shape)\n",
        "\n",
        "# OHE 적용\n",
        "tr_oh_labels = to_categorical(tr_labels)\n",
        "val_oh_labels = to_categorical(val_labels)\n",
        "\n",
        "print('after OHE:', tr_oh_labels.shape, val_oh_labels.shape)"
      ],
      "metadata": {
        "colab": {
          "base_uri": "https://localhost:8080/"
        },
        "id": "qMJc3mriZ0rL",
        "outputId": "283cb6ad-d444-429a-f467-44402f3965ad"
      },
      "execution_count": 55,
      "outputs": [
        {
          "output_type": "stream",
          "name": "stdout",
          "text": [
            "train과 validation shape: (51000, 28, 28) (51000,) (9000, 28, 28) (9000,)\n",
            "after OHE: (51000, 10) (9000, 10)\n"
          ]
        }
      ]
    },
    {
      "cell_type": "code",
      "source": [
        "from tensorflow.keras.layers import Dense, Flatten\n",
        "from tensorflow.keras.models import Sequential\n",
        "from tensorflow.keras.optimizers import Adam\n",
        "\n",
        "INPUT_SIZE = 28\n",
        "model = Sequential([\n",
        "    Flatten(input_shape=(INPUT_SIZE, INPUT_SIZE)),\n",
        "    Dense(100, activation='relu'),\n",
        "    Dense(30, activation='relu'),\n",
        "    Dense(10, activation='softmax')\n",
        "])\n",
        "\n",
        "model.compile(optimizer=Adam(0.001), loss='categorical_crossentropy', metrics=['accuracy'])\n"
      ],
      "metadata": {
        "id": "fdQ0484pcHBt"
      },
      "execution_count": 56,
      "outputs": []
    },
    {
      "cell_type": "code",
      "source": [
        "history = model.fit(x=tr_images,y=tr_oh_labels, batch_size=128, validation_data=(val_images, val_oh_labels), epochs=20, verbose=1)"
      ],
      "metadata": {
        "colab": {
          "base_uri": "https://localhost:8080/"
        },
        "id": "9JLyY7lVcXwZ",
        "outputId": "761b8389-6218-4c1c-93ad-f72f51686388"
      },
      "execution_count": 57,
      "outputs": [
        {
          "output_type": "stream",
          "name": "stdout",
          "text": [
            "Epoch 1/20\n",
            "399/399 [==============================] - 2s 4ms/step - loss: 1.5030 - accuracy: 0.4664 - val_loss: 0.9761 - val_accuracy: 0.6677\n",
            "Epoch 2/20\n",
            "399/399 [==============================] - 1s 4ms/step - loss: 0.8319 - accuracy: 0.7118 - val_loss: 0.7605 - val_accuracy: 0.7376\n",
            "Epoch 3/20\n",
            "399/399 [==============================] - 1s 4ms/step - loss: 0.7004 - accuracy: 0.7493 - val_loss: 0.6858 - val_accuracy: 0.7482\n",
            "Epoch 4/20\n",
            "399/399 [==============================] - 2s 4ms/step - loss: 0.6372 - accuracy: 0.7696 - val_loss: 0.6288 - val_accuracy: 0.7730\n",
            "Epoch 5/20\n",
            "399/399 [==============================] - 2s 4ms/step - loss: 0.5924 - accuracy: 0.7872 - val_loss: 0.5907 - val_accuracy: 0.7864\n",
            "Epoch 6/20\n",
            "399/399 [==============================] - 2s 4ms/step - loss: 0.5610 - accuracy: 0.7994 - val_loss: 0.5657 - val_accuracy: 0.7938\n",
            "Epoch 7/20\n",
            "399/399 [==============================] - 1s 4ms/step - loss: 0.5364 - accuracy: 0.8086 - val_loss: 0.5420 - val_accuracy: 0.8081\n",
            "Epoch 8/20\n",
            "399/399 [==============================] - 2s 4ms/step - loss: 0.5161 - accuracy: 0.8175 - val_loss: 0.5234 - val_accuracy: 0.8134\n",
            "Epoch 9/20\n",
            "399/399 [==============================] - 2s 4ms/step - loss: 0.5005 - accuracy: 0.8227 - val_loss: 0.5131 - val_accuracy: 0.8159\n",
            "Epoch 10/20\n",
            "399/399 [==============================] - 1s 4ms/step - loss: 0.4868 - accuracy: 0.8290 - val_loss: 0.4983 - val_accuracy: 0.8221\n",
            "Epoch 11/20\n",
            "399/399 [==============================] - 1s 3ms/step - loss: 0.4740 - accuracy: 0.8330 - val_loss: 0.4904 - val_accuracy: 0.8286\n",
            "Epoch 12/20\n",
            "399/399 [==============================] - 1s 4ms/step - loss: 0.4634 - accuracy: 0.8369 - val_loss: 0.4805 - val_accuracy: 0.8306\n",
            "Epoch 13/20\n",
            "399/399 [==============================] - 1s 4ms/step - loss: 0.4546 - accuracy: 0.8406 - val_loss: 0.4692 - val_accuracy: 0.8316\n",
            "Epoch 14/20\n",
            "399/399 [==============================] - 1s 3ms/step - loss: 0.4474 - accuracy: 0.8413 - val_loss: 0.4614 - val_accuracy: 0.8372\n",
            "Epoch 15/20\n",
            "399/399 [==============================] - 1s 3ms/step - loss: 0.4396 - accuracy: 0.8450 - val_loss: 0.4577 - val_accuracy: 0.8380\n",
            "Epoch 16/20\n",
            "399/399 [==============================] - 2s 4ms/step - loss: 0.4327 - accuracy: 0.8470 - val_loss: 0.4520 - val_accuracy: 0.8387\n",
            "Epoch 17/20\n",
            "399/399 [==============================] - 1s 4ms/step - loss: 0.4269 - accuracy: 0.8492 - val_loss: 0.4460 - val_accuracy: 0.8419\n",
            "Epoch 18/20\n",
            "399/399 [==============================] - 2s 4ms/step - loss: 0.4220 - accuracy: 0.8508 - val_loss: 0.4404 - val_accuracy: 0.8456\n",
            "Epoch 19/20\n",
            "399/399 [==============================] - 1s 3ms/step - loss: 0.4172 - accuracy: 0.8525 - val_loss: 0.4383 - val_accuracy: 0.8460\n",
            "Epoch 20/20\n",
            "399/399 [==============================] - 2s 4ms/step - loss: 0.4120 - accuracy: 0.8542 - val_loss: 0.4362 - val_accuracy: 0.8430\n"
          ]
        }
      ]
    },
    {
      "cell_type": "code",
      "source": [
        "print(history.history['loss'])\n",
        "print(history.history['accuracy'])\n",
        "print(history.history['val_loss'])\n",
        "print(history.history['val_accuracy'])"
      ],
      "metadata": {
        "colab": {
          "base_uri": "https://localhost:8080/"
        },
        "id": "TKBkX2Ccc1rX",
        "outputId": "c6814d9c-4e5d-4ada-bab0-46a7e4ab880d"
      },
      "execution_count": 58,
      "outputs": [
        {
          "output_type": "stream",
          "name": "stdout",
          "text": [
            "[1.5030335187911987, 0.8318703770637512, 0.7003945112228394, 0.6371647715568542, 0.5924485921859741, 0.5609707236289978, 0.53636634349823, 0.5161449313163757, 0.5005228519439697, 0.4867863953113556, 0.4740137755870819, 0.4633844494819641, 0.45455285906791687, 0.4474391043186188, 0.43960195779800415, 0.43265706300735474, 0.4269368052482605, 0.4219948649406433, 0.41715338826179504, 0.41204833984375]\n",
            "[0.4663921594619751, 0.7118431329727173, 0.7492548823356628, 0.7696078419685364, 0.7872157096862793, 0.7993529438972473, 0.8086470365524292, 0.8174706101417542, 0.8227450847625732, 0.8289999961853027, 0.8330392241477966, 0.8369215726852417, 0.8405882120132446, 0.8412744998931885, 0.8449608087539673, 0.8469803929328918, 0.8491764664649963, 0.8507843017578125, 0.8525294065475464, 0.854215681552887]\n",
            "[0.9760658740997314, 0.7605331540107727, 0.6858360171318054, 0.6288376450538635, 0.5906901359558105, 0.5656688213348389, 0.5419589281082153, 0.5234452486038208, 0.5131065845489502, 0.49825868010520935, 0.49043235182762146, 0.4805229604244232, 0.4691990613937378, 0.46137750148773193, 0.4577411115169525, 0.4520255923271179, 0.4460044205188751, 0.44040265679359436, 0.4382760524749756, 0.43621620535850525]\n",
            "[0.6676666736602783, 0.7375555634498596, 0.7482222318649292, 0.7730000019073486, 0.7864444255828857, 0.7937777638435364, 0.8081111311912537, 0.8134444355964661, 0.8158888816833496, 0.8221111297607422, 0.8285555839538574, 0.8305555582046509, 0.8315555453300476, 0.8372222185134888, 0.8379999995231628, 0.8386666774749756, 0.8418889045715332, 0.8455555438995361, 0.8460000157356262, 0.8429999947547913]\n"
          ]
        }
      ]
    },
    {
      "cell_type": "code",
      "source": [
        "import matplotlib.pyplot as plt\n",
        "\n",
        "plt.plot(history.history['accuracy'], label='train')\n",
        "plt.plot(history.history['val_accuracy'], label='valid')\n",
        "plt.legend()"
      ],
      "metadata": {
        "colab": {
          "base_uri": "https://localhost:8080/",
          "height": 284
        },
        "id": "8HiJE2iydomb",
        "outputId": "4beeb8b8-22df-4c16-ef26-f24344afee10"
      },
      "execution_count": 61,
      "outputs": [
        {
          "output_type": "execute_result",
          "data": {
            "text/plain": [
              "<matplotlib.legend.Legend at 0x7fd26674c590>"
            ]
          },
          "metadata": {},
          "execution_count": 61
        },
        {
          "output_type": "display_data",
          "data": {
            "image/png": "[encoded data removed]",
            "text/plain": [
              "<Figure size 432x288 with 1 Axes>"
            ]
          },
          "metadata": {
            "needs_background": "light"
          }
        }
      ]
    },
    {
      "cell_type": "code",
      "source": [
        "import matplotlib.pyplot as plt\n",
        "\n",
        "plt.plot(history.history['loss'], label='train')\n",
        "plt.plot(history.history['val_loss'], label='valid')\n",
        "plt.legend()"
      ],
      "metadata": {
        "colab": {
          "base_uri": "https://localhost:8080/",
          "height": 284
        },
        "id": "IP9qqqTOebD7",
        "outputId": "13dca5d3-ef37-4c63-d8b4-2cd8e4bfbe6a"
      },
      "execution_count": 62,
      "outputs": [
        {
          "output_type": "execute_result",
          "data": {
            "text/plain": [
              "<matplotlib.legend.Legend at 0x7fd266503b50>"
            ]
          },
          "metadata": {},
          "execution_count": 62
        },
        {
          "output_type": "display_data",
          "data": {
            "image/png": "[encoded data removed]",
            "text/plain": [
              "<Figure size 432x288 with 1 Axes>"
            ]
          },
          "metadata": {
            "needs_background": "light"
          }
        }
      ]
    },
    {
      "cell_type": "code",
      "source": [
        "from tensorflow.keras.layers import Dense, Flatten\n",
        "from tensorflow.keras.models import Sequential\n",
        "\n",
        "INPUT_SIZE = 28\n",
        "model = Sequential([\n",
        "    Flatten(input_shape=(INPUT_SIZE, INPUT_SIZE)),\n",
        "    Dense(100, activation='relu'),\n",
        "    Dense(30, activation='relu'),\n",
        "    Dense(10, activation='softmax')\n",
        "])\n"
      ],
      "metadata": {
        "id": "MEozawted5Mf"
      },
      "execution_count": 63,
      "outputs": []
    },
    {
      "cell_type": "code",
      "source": [
        "model1 = Sequential()\n",
        "model1.add(Flatten(input_shape=(INPUT_SIZE, INPUT_SIZE)))\n",
        "model1.add(Dense(100, activation='relu'))\n",
        "model1.add(Dense(30, activation='relu'))\n",
        "model1.add(Dense(30, activation='softmax'))\n",
        "\n",
        "model1.summary()"
      ],
      "metadata": {
        "colab": {
          "base_uri": "https://localhost:8080/"
        },
        "id": "OKBjXkaNgTof",
        "outputId": "36075557-9f4a-49ee-d7dc-34921467f746"
      },
      "execution_count": 65,
      "outputs": [
        {
          "output_type": "stream",
          "name": "stdout",
          "text": [
            "Model: \"sequential_5\"\n",
            "_________________________________________________________________\n",
            " Layer (type)                Output Shape              Param #   \n",
            "=================================================================\n",
            " flatten_5 (Flatten)         (None, 784)               0         \n",
            "                                                                 \n",
            " dense_13 (Dense)            (None, 100)               78500     \n",
            "                                                                 \n",
            " dense_14 (Dense)            (None, 30)                3030      \n",
            "                                                                 \n",
            " dense_15 (Dense)            (None, 30)                930       \n",
            "                                                                 \n",
            "=================================================================\n",
            "Total params: 82,460\n",
            "Trainable params: 82,460\n",
            "Non-trainable params: 0\n",
            "_________________________________________________________________\n"
          ]
        }
      ]
    },
    {
      "cell_type": "code",
      "source": [
        "from tensorflow.keras.layers import Input, Flatten, Dense\n",
        "from tensorflow.keras.models import Model\n",
        "\n",
        "input_tensor = Input(shape=(INPUT_SIZE, INPUT_SIZE)\n",
        "\n",
        "x= Flatten()(input_tensor)\n",
        "x= Dense(100, activation='relu')(x)\n",
        "x= Dense(30,activation='relu')(x)\n",
        "output = Dense(10, activation='softmax')(x)\n",
        "\n",
        "model = Model(inputs=input_tensor, outputs=output)\n",
        "\n",
        "model.summary()"
      ],
      "metadata": {
        "colab": {
          "base_uri": "https://localhost:8080/",
          "height": 136
        },
        "id": "1WUSwVtaglVz",
        "outputId": "967d0f9d-f86b-41b5-f4a0-4d754875b9a0"
      },
      "execution_count": 71,
      "outputs": [
        {
          "output_type": "error",
          "ename": "SyntaxError",
          "evalue": "ignored",
          "traceback": [
            "\u001b[0;36m  File \u001b[0;32m\"<ipython-input-71-90d92c88d290>\"\u001b[0;36m, line \u001b[0;32m6\u001b[0m\n\u001b[0;31m    x= Flatten()(input_tensor)\u001b[0m\n\u001b[0m    ^\u001b[0m\n\u001b[0;31mSyntaxError\u001b[0m\u001b[0;31m:\u001b[0m invalid syntax\n"
          ]
        }
      ]
    },
    {
      "cell_type": "code",
      "source": [
        ""
      ],
      "metadata": {
        "id": "9Rjndriyh0TT"
      },
      "execution_count": null,
      "outputs": []
    }
  ]
}